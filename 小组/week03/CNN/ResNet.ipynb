{
 "cells": [
  {
   "cell_type": "markdown",
   "metadata": {},
   "source": [
    "# ResNet"
   ]
  },
  {
   "cell_type": "markdown",
   "metadata": {},
   "source": [
    "![](https://i-blog.csdnimg.cn/blog_migrate/52931e08f7f2a3410a46ed6541c10b63.png)\n",
    "\n",
    "![](https://i-blog.csdnimg.cn/blog_migrate/1208e9511e2afa4d13d4d1aad1d4be79.jpeg)"
   ]
  }
 ],
 "metadata": {
  "language_info": {
   "name": "python"
  }
 },
 "nbformat": 4,
 "nbformat_minor": 2
}
