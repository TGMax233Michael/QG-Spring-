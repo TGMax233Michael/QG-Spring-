{
 "cells": [
  {
   "cell_type": "code",
   "execution_count": null,
   "metadata": {},
   "outputs": [
    {
     "name": "stdout",
     "output_type": "stream",
     "text": [
      "[[-6.12894273  7.52606474]\n",
      " [-6.10086602  7.52606474]\n",
      " [-6.07278931  7.52606474]\n",
      " ...\n",
      " [-0.59783096 11.86656431]\n",
      " [-0.56975425 11.86656431]\n",
      " [-0.54167754 11.86656431]]\n"
     ]
    }
   ],
   "source": [
    "import numpy as np\n",
    "import matplotlib.pyplot as plt\n",
    "from sklearn.datasets import make_blobs\n",
    "\n",
    "data = make_blobs(centers=2, random_state=42)\n",
    "X, y = data[0], data[-1]\n",
    "\n",
    "x_min, x_max = np.min(X[:, 0]) - 1, np.min(X[:, 1]) - 1\n",
    "y_min, y_max = np.max(X[:, 0]) + 1, np.max(X[:, 1]) + 1\n",
    "\n",
    "# print(x_min, x_max)\n",
    "# print(y_min, y_max)\n",
    "\n",
    "xx, yy = np.meshgrid(np.linspace(x_min, x_max, 200),\n",
    "                   np.linspace(y_min, y_max, 200))\n",
    "\n",
    "grid = np.column_stack((xx.ravel(), yy.ravel()))"
   ]
  }
 ],
 "metadata": {
  "kernelspec": {
   "display_name": "Python 3",
   "language": "python",
   "name": "python3"
  },
  "language_info": {
   "codemirror_mode": {
    "name": "ipython",
    "version": 3
   },
   "file_extension": ".py",
   "mimetype": "text/x-python",
   "name": "python",
   "nbconvert_exporter": "python",
   "pygments_lexer": "ipython3",
   "version": "3.13.2"
  }
 },
 "nbformat": 4,
 "nbformat_minor": 2
}
